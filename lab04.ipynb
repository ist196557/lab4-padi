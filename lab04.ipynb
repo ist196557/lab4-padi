{
 "cells": [
  {
   "cell_type": "markdown",
   "metadata": {},
   "source": [
    "# Learning and Decision Making"
   ]
  },
  {
   "cell_type": "markdown",
   "metadata": {},
   "source": [
    "## Laboratory 4: Reinforcement learning\n",
    "\n",
    "In the end of the lab, you should export the notebook to a Python script (``File >> Download as >> Python (.py)``). Make sure that the resulting script includes all code written in the tasks marked as \"**Activity n. N**\", together with any replies to specific questions posed. Your file should be named `padi-labKK-groupXXX.py`, where `KK` corresponds to the lab number and the `XXX` corresponds to your group number. Similarly, your homework should consist of a single pdf file named `padi-hwKK-groupXXX.pdf`. You should create a zip file with the lab and homework files and submit it in Fenix **at most 30 minutes after your lab is over**.\n",
    "\n",
    "Make sure to strictly respect the specifications in each activity, in terms of the intended inputs, outputs and naming conventions.\n",
    "\n",
    "In particular, after completing the activities you should be able to replicate the examples provided (although this, in itself, is no guarantee that the activities are correctly completed)."
   ]
  },
  {
   "cell_type": "markdown",
   "metadata": {},
   "source": [
    "### 1. The MDP Model \n",
    "\n",
    "In this lab you will implement several reinforcement learning algorithms, and use the garbage collection domain from Lab 2 to test and compare these algorithms. Don't forget, however, that your functions should work for **any MDP** and not just the one provided. \n",
    "\n",
    "The garbage collection domain to be used is represented in the diagram below.\n",
    "\n",
    "<img src=\"garbage-big.png\">\n",
    "\n",
    "In the above domain, \n",
    "\n",
    "* At any time step, garbage is _at most_ in one of the cells marked with a garbage bin. \n",
    "* When the garbage truck picks up the garbage from one of the bins, it becoles ``loaded``. \n",
    "* While the truck is loaded, no garbage appears in any of the marked locations.\n",
    "* The driver has six actions available: `Up`, `Down`, `Left`, `Right`, `Pick`, and `Drop`. \n",
    "* Each movement action moves the truck to the adjacent stop in the corresponding direction, if there is one. Otherwise, it has no effect. \n",
    "* The `Pick` action succeeds when the truck is in a location with garbage. In that case, the truck becomes \"loaded\".\n",
    "* The `Drop` action succeeds when the loaded truck is at the recycling plant. After a successful drop, the truck becomes empty, and garbage may now appear in any of the marked cells with a total probability of 0.3.\n",
    "\n",
    "**Throughout the lab, unless if stated otherwise, use $\\gamma=0.99$.**\n",
    "\n",
    "$$\\diamond$$\n",
    "\n",
    "We start by loading the MDP for the garbage collection domain from the file `garbage.npz`. We will use this domain as an example to illustrate the different functions/algorithms you are expected to deploy. The file contains both the MDP, described as a tuple like those from Lab 2, and the corresponding optimal $Q$-function.\n",
    "\n",
    "To do so, you can run the code\n",
    "```python\n",
    "import numpy as np\n",
    "\n",
    "mdp_info = np.load('garbage.npz', allow_pickle=True)\n",
    "\n",
    "# The MDP is a tuple (X, A, P, c, gamma)\n",
    "M = mdp_info['M']\n",
    "\n",
    "# We also load the optimal Q-function for the MDP\n",
    "Qopt = mdp_info['Q']\n",
    "```\n",
    "\n",
    "---\n",
    "\n",
    "In the first activity, you will implement a \"simulator of the world\". The simulator consists of a function that enables you to sample a transition from a given MDP. You will then use this function, in subsequent activities, to generate the data that your agent will use to learn."
   ]
  },
  {
   "cell_type": "code",
   "execution_count": 1,
   "metadata": {},
   "outputs": [],
   "source": [
    "import numpy as np\n",
    "\n",
    "mdp_info = np.load('garbage.npz', allow_pickle=True)\n",
    "\n",
    "# The MDP is a tuple (X, A, P, c, gamma)\n",
    "M = mdp_info['M']\n",
    "\n",
    "# We also load the optimal Q-function for the MDP\n",
    "Qopt = mdp_info['Q']"
   ]
  },
  {
   "cell_type": "code",
   "execution_count": 2,
   "metadata": {},
   "outputs": [
    {
     "data": {
      "text/plain": [
       "((462,), (6,), (6, 462, 462), (462, 6), ())"
      ]
     },
     "execution_count": 2,
     "metadata": {},
     "output_type": "execute_result"
    }
   ],
   "source": [
    "np.array(M[0]).shape, np.array(M[1]).shape, np.array(M[2]).shape, np.array(M[3]).shape, np.array(M[4]).shape"
   ]
  },
  {
   "cell_type": "markdown",
   "metadata": {},
   "source": [
    "---\n",
    "\n",
    "#### Activity 1.        \n",
    "\n",
    "Write a function named `sample_transition` that receives, as input, a tuple representing an arbitrary MDP as well as two integers, `s` and `a`, corresponding to a state and an action. The function should return a tuple `(s, a, c, s')`, where `c` is the cost associated with performing action `a` in state `s` and `s'` is a state generated from `s` upon selecting action `a`, according to the transition probabilities for the MDP.\n",
    "\n",
    "---"
   ]
  },
  {
   "cell_type": "code",
   "execution_count": 3,
   "metadata": {
    "ExecuteTime": {
     "end_time": "2019-12-09T09:18:48.272364Z",
     "start_time": "2019-12-09T09:18:48.264410Z"
    },
    "scrolled": false
   },
   "outputs": [],
   "source": [
    "def sample_transition(M,s,a):\n",
    "    P_a_s = M[2][a][s]\n",
    "    possible_states = list(range(len(M[0])))\n",
    "    next_state = np.random.choice(possible_states, p=P_a_s)\n",
    "    cost = M[3][s][a]\n",
    "    return s, a, cost, next_state\n"
   ]
  },
  {
   "cell_type": "code",
   "execution_count": 4,
   "metadata": {},
   "outputs": [
    {
     "name": "stdout",
     "output_type": "stream",
     "text": [
      "Observed transition:\n",
      "((8, 28, empty), Right, 0.501, (10, 28, empty))\n",
      "\n",
      "Observed transition:\n",
      "((0, None, loaded), Left, 1.0, (0, None, loaded))\n",
      "\n",
      "Observed transition:\n",
      "((18, 18, empty), Pick, 0.01, (18, None, loaded))\n"
     ]
    }
   ],
   "source": [
    "import numpy.random as rnd\n",
    "\n",
    "rnd.seed(42)\n",
    "\n",
    "# Select random state and action\n",
    "s = 115 # State (8, 28, empty)\n",
    "a = rnd.randint(len(M[1]))\n",
    "\n",
    "s, a, cnew, snew = sample_transition(M, s, a)\n",
    "\n",
    "print('Observed transition:\\n(', end='')\n",
    "print(M[0][s], end=', ')\n",
    "print(M[1][a], end=', ')\n",
    "print(cnew, end=', ')\n",
    "print(M[0][snew], end=')\\n')\n",
    "\n",
    "# Select random state and action\n",
    "s = 429 # (0, None, loaded)\n",
    "a = rnd.randint(len(M[1]))\n",
    "\n",
    "s, a, cnew, snew = sample_transition(M, s, a)\n",
    "\n",
    "print('\\nObserved transition:\\n(', end='')\n",
    "print(M[0][s], end=', ')\n",
    "print(M[1][a], end=', ')\n",
    "print(cnew, end=', ')\n",
    "print(M[0][snew], end=')\\n')\n",
    "\n",
    "# Select random state and action\n",
    "s = 239 # State (18, 18, empty)\n",
    "a = rnd.randint(len(M[1]))\n",
    "\n",
    "s, a, cnew, snew = sample_transition(M, s, a)\n",
    "\n",
    "print('\\nObserved transition:\\n(', end='')\n",
    "print(M[0][s], end=', ')\n",
    "print(M[1][a], end=', ')\n",
    "print(cnew, end=', ')\n",
    "print(M[0][snew], end=')\\n')"
   ]
  },
  {
   "cell_type": "markdown",
   "metadata": {},
   "source": [
    "All reinforcement learning algorithms that you will implement can only access the MDP through the function `sample_transition` which, in a sense, simulates an \"interaction\" of the agent with the environment.\n",
    "\n",
    "For example, using the garbage collection MDP, you could run:\n",
    "\n",
    "```python\n",
    "import numpy.random as rnd\n",
    "\n",
    "rnd.seed(42)\n",
    "\n",
    "# Select random state and action\n",
    "s = 115 # State (8, 28, empty)\n",
    "a = rnd.randint(len(M[1]))\n",
    "\n",
    "s, a, cnew, snew = sample_transition(M, s, a)\n",
    "\n",
    "print('Observed transition:\\n(', end='')\n",
    "print(M[0][s], end=', ')\n",
    "print(M[1][a], end=', ')\n",
    "print(cnew, end=', ')\n",
    "print(M[0][snew], end=')\\n')\n",
    "\n",
    "# Select random state and action\n",
    "s = 429 # (0, None, loaded)\n",
    "a = rnd.randint(len(M[1]))\n",
    "\n",
    "s, a, cnew, snew = sample_transition(M, s, a)\n",
    "\n",
    "print('\\nObserved transition:\\n(', end='')\n",
    "print(M[0][s], end=', ')\n",
    "print(M[1][a], end=', ')\n",
    "print(cnew, end=', ')\n",
    "print(M[0][snew], end=')\\n')\n",
    "\n",
    "# Select random state and action\n",
    "s = 239 # State (18, 18, empty)\n",
    "a = rnd.randint(len(M[1]))\n",
    "\n",
    "s, a, cnew, snew = sample_transition(M, s, a)\n",
    "\n",
    "print('\\nObserved transition:\\n(', end='')\n",
    "print(M[0][s], end=', ')\n",
    "print(M[1][a], end=', ')\n",
    "print(cnew, end=', ')\n",
    "print(M[0][snew], end=')\\n')\n",
    "```\n",
    "\n",
    "and get, as output:\n",
    "\n",
    "```\n",
    "Observed transition:\n",
    "((8, 28, empty), Right, 0.501, (10, 28, empty))\n",
    "\n",
    "Observed transition:\n",
    "((0, None, loaded), Left, 1.0, (0, None, loaded))\n",
    "\n",
    "Observed transition:\n",
    "((18, 18, empty), Pick, 0.01, (18, None, loaded))\n",
    "```\n",
    "\n",
    "**Note:** For debug purposes, we also provide a second file, `garbage-small.npz`, that contains a 6-state MDP that you can use to verify if your results make sense."
   ]
  },
  {
   "cell_type": "markdown",
   "metadata": {
    "raw_mimetype": "text/latex"
   },
   "source": [
    "---\n",
    "\n",
    "#### Activity 2.        \n",
    "\n",
    "Write down a function named `egreedy` that implements an $\\epsilon$-greedy policy. Your function should receive, as input, a `numpy` array `Q` with shape `(N,)`, for some integer `N`, and, as an optional argument, a floating point number `eps` with a default value `eps=0.1`. Your function should return... \n",
    "\n",
    "* ... with a probability $\\epsilon$, a random index between $0$ and $N-1$.\n",
    "* ... with a probability $1-\\epsilon$, the index between $0$ and $N-1$ corresponding to the minimum value of `Q`. If more than one such index exists, the function should select among such indices **uniformly at random**.\n",
    "\n",
    "**Note:** In the upcoming activities, the array `Q` received by the function `egreedy` will correspond to a row of a $Q$-function, and `N` will correspond to the number of actions."
   ]
  },
  {
   "cell_type": "code",
   "execution_count": 5,
   "metadata": {
    "ExecuteTime": {
     "end_time": "2019-12-09T09:18:48.301639Z",
     "start_time": "2019-12-09T09:18:48.296224Z"
    }
   },
   "outputs": [],
   "source": [
    "def check_closeness(n, arr):\n",
    "    idx = []\n",
    "    for i in range(len(arr)):\n",
    "        if abs(n - arr[i]) < 1e-6:\n",
    "            idx.append(i)\n",
    "    return idx\n",
    "\n",
    "def egreedy(Q, eps=0.1):\n",
    "    # Select action according to epsilon-greedy policy\n",
    "    if np.random.rand() < eps:\n",
    "        # Select random action\n",
    "        a = np.random.randint(len(Q))\n",
    "    else:\n",
    "        # Select action with highest Q-value\n",
    "        maximum = np.min(Q)\n",
    "        idx = check_closeness(maximum, Q)\n",
    "        # Choose uniformly at random from idx\n",
    "        a = np.random.choice(idx)\n",
    "    return a\n",
    "\n",
    "\n",
    "def egreedy(Q, eps=0.1):\n",
    "    N = len(Q)\n",
    "    \n",
    "    # Choose whether to explore or exploit based on epsilon\n",
    "    explore = np.random.rand() < eps\n",
    "    \n",
    "    if explore:\n",
    "        # With probability eps, select a random index between 0 and N-1\n",
    "        action = np.random.randint(N)\n",
    "    else:\n",
    "        # With probability 1-eps, select the index corresponding to the minimum value of Q\n",
    "        # If there are multiple indices with the minimum value, choose one uniformly at random\n",
    "        min_indices = np.where(Q == Q.min())[0]\n",
    "        action = np.random.choice(min_indices)\n",
    "    \n",
    "    return action"
   ]
  },
  {
   "cell_type": "code",
   "execution_count": 6,
   "metadata": {},
   "outputs": [
    {
     "name": "stdout",
     "output_type": "stream",
     "text": [
      "State: (8, 28, empty) - action (eps=0.0): Down\n",
      "State: (8, 28, empty) - action (eps=0.5): Down\n",
      "State: (8, 28, empty) - action (eps=1.0): Pick\n",
      "\n",
      "State: (0, None, loaded) - action (eps=0.0): Drop\n",
      "State: (0, None, loaded) - action (eps=0.5): Left\n",
      "State: (0, None, loaded) - action (eps=1.0): Pick\n",
      "\n",
      "State: (18, 18, empty) - action (eps=0.0): Pick\n",
      "State: (18, 18, empty) - action (eps=0.5): Pick\n",
      "State: (18, 18, empty) - action (eps=1.0): Down\n"
     ]
    }
   ],
   "source": [
    "rnd.seed(42)\n",
    "\n",
    "s = 115 # State (8, 28, empty)\n",
    "a = egreedy(Qopt[s, :], eps=0)\n",
    "print('State:', M[0][s], '- action (eps=0.0):', M[1][a])\n",
    "a = egreedy(Qopt[s, :], eps=0.5)\n",
    "print('State:', M[0][s], '- action (eps=0.5):', M[1][a])\n",
    "a = egreedy(Qopt[s, :], eps=1.0)\n",
    "print('State:', M[0][s], '- action (eps=1.0):', M[1][a])\n",
    "\n",
    "s = 429 # (0, None, loaded)\n",
    "a = egreedy(Qopt[s, :], eps=0)\n",
    "print('\\nState:', M[0][s], '- action (eps=0.0):', M[1][a])\n",
    "a = egreedy(Qopt[s, :], eps=0.5)\n",
    "print('State:', M[0][s], '- action (eps=0.5):', M[1][a])\n",
    "a = egreedy(Qopt[s, :], eps=1.0)\n",
    "print('State:', M[0][s], '- action (eps=1.0):', M[1][a])\n",
    "\n",
    "s = 239 # State (18, 18, empty)\n",
    "a = egreedy(Qopt[s, :], eps=0)\n",
    "print('\\nState:', M[0][s], '- action (eps=0.0):', M[1][a])\n",
    "a = egreedy(Qopt[s, :], eps=0.5)\n",
    "print('State:', M[0][s], '- action (eps=0.5):', M[1][a])\n",
    "a = egreedy(Qopt[s, :], eps=1.0)\n",
    "print('State:', M[0][s], '- action (eps=1.0):', M[1][a])"
   ]
  },
  {
   "cell_type": "markdown",
   "metadata": {},
   "source": [
    "For example, using the function `Qopt` loaded from the garbage collection file, you can run:\n",
    "\n",
    "```python\n",
    "rnd.seed(42)\n",
    "\n",
    "s = 115 # State (8, 28, empty)\n",
    "a = egreedy(Qopt[s, :], eps=0)\n",
    "print('State:', M[0][s], '- action (eps=0.0):', M[1][a])\n",
    "a = egreedy(Qopt[s, :], eps=0.5)\n",
    "print('State:', M[0][s], '- action (eps=0.5):', M[1][a])\n",
    "a = egreedy(Qopt[s, :], eps=1.0)\n",
    "print('State:', M[0][s], '- action (eps=1.0):', M[1][a])\n",
    "\n",
    "s = 429 # (0, None, loaded)\n",
    "a = egreedy(Qopt[s, :], eps=0)\n",
    "print('\\nState:', M[0][s], '- action (eps=0.0):', M[1][a])\n",
    "a = egreedy(Qopt[s, :], eps=0.5)\n",
    "print('State:', M[0][s], '- action (eps=0.5):', M[1][a])\n",
    "a = egreedy(Qopt[s, :], eps=1.0)\n",
    "print('State:', M[0][s], '- action (eps=1.0):', M[1][a])\n",
    "\n",
    "s = 239 # State (18, 18, empty)\n",
    "a = egreedy(Qopt[s, :], eps=0)\n",
    "print('\\nState:', M[0][s], '- action (eps=0.0):', M[1][a])\n",
    "a = egreedy(Qopt[s, :], eps=0.5)\n",
    "print('State:', M[0][s], '- action (eps=0.5):', M[1][a])\n",
    "a = egreedy(Qopt[s, :], eps=1.0)\n",
    "print('State:', M[0][s], '- action (eps=1.0):', M[1][a])\n",
    "```\n",
    "\n",
    "and you will get the output:\n",
    "\n",
    "```\n",
    "State: (8, 28, empty) - action (eps=0.0): Down\n",
    "State: (8, 28, empty) - action (eps=0.5): Down\n",
    "State: (8, 28, empty) - action (eps=1.0): Left\n",
    "\n",
    "State: (0, None, loaded) - action (eps=0.0): Drop\n",
    "State: (0, None, loaded) - action (eps=0.5): Left\n",
    "State: (0, None, loaded) - action (eps=1.0): Down\n",
    "\n",
    "State: (18, 18, empty) - action (eps=0.0): Pick\n",
    "State: (18, 18, empty) - action (eps=0.5): Right\n",
    "State: (18, 18, empty) - action (eps=1.0): Right\n",
    "```\n",
    "\n",
    "**Note that, depending on the order and number of calls to functions in the random library you may get slightly different results.**"
   ]
  },
  {
   "cell_type": "markdown",
   "metadata": {},
   "source": [
    "---\n",
    "\n",
    "#### Activity 3. \n",
    "\n",
    "Write a function `mb_learning` that implements the model-based reinforcement learning algorithm discussed in class. Your function should receive as input arguments \n",
    "\n",
    "* A tuple, `mdp`, containing the description of an **arbitrary** MDP. The structure of the tuple is similar to that provided in the example above. \n",
    "* An integer, `n`, corresponding the number of steps that your algorithm should run.\n",
    "*  A numpy array `qinit` with as many rows as the number of states in `mdp` and as many columns as the number of actions in `mdp`. The matrix `qinit` should be used to initialize the $Q$-function being learned by your function.\n",
    "* A tuple, `Pinit`, with as many elements as the number of actions in `mdp`. Each element of `Pinit` corresponds to square numpy arrays with as many rows/columns as the number of states in `mdp` and can be **any** transition probability matrix. The matrices in `Pinit` should be used to initialize the transition probability matrices of the model being learned by your function.\n",
    "* A numpy array `cinit` with as many rows as the number of states in `mdp` and as many columns as the number of actions in `mdp`. The matrix `cinit` should be used to initialize the cost function of the model being learned by your function.\n",
    "\n",
    "Your function should simulate an interaction of `n` steps between the agent and the environment, starting from an arbitrary state chosen uniformly at random, and during which it should perform `n` iterations of the model-based RL algorithm seen in class. In particular, it should learn the transition probabilities and cost function from the interaction between the agent and the environment, and use these to compute the optimal $Q$-function. The transition probabilities, cost and $Q$-functions to be learned should be initialized using `Pinit`, `cinit` and `qinit`, respectively. \n",
    "\n",
    "Note that, at each step of the interaction,\n",
    "\n",
    "* The agent should observe the current state, and select an action using an $\\epsilon$-greedy policy with respect to its current estimate of the optimal $Q$-values. You should use the function `egreedy` from Activity 2, with $\\epsilon=0.15$. \n",
    "* Given the state and action, you must then compute the cost and generate the next state, using `mdp` and the function `sample_transition` from Activity 1.\n",
    "* With this transition information (state, action, cost, next-state), you can now perform an update to the transition probabilities, cost function, and $Q$-function.\n",
    "* When updating the components $(x,a)$ of the model, use the step-size\n",
    "\n",
    "$$\\alpha_t=\\frac{1}{N_t(x,a)+1},$$\n",
    "\n",
    "where $N_t(x,a)$ is the number of visits to the pair $(x,a)$ up to time step $t$.\n",
    "\n",
    "Your function should return a tuple containing:\n",
    "\n",
    "*  A numpy array with as many rows as the number of states in `mdp` and as many columns as the number of actions in `mdp`, corresponding to the learned $Q$-function.\n",
    "* A tuple with as many elements as the number of actions in `mdp`. The element $a$ of the tuple corresponds to a square numpy array with as many rows/columns as the number of states in `mdp`, corresponding to the learned transition probabilities for action $a$.\n",
    "* A numpy array with as many rows as the number of states in `mdp` and as many columns as the number of actions in `mdp`, corresponding to the learned cost function.\n",
    "\n",
    "---"
   ]
  },
  {
   "cell_type": "code",
   "execution_count": 7,
   "metadata": {
    "ExecuteTime": {
     "end_time": "2019-12-09T09:18:48.330597Z",
     "start_time": "2019-12-09T09:18:48.322311Z"
    }
   },
   "outputs": [],
   "source": [
    "def mb_learning(M, n, Qinit, Pinit, Cinit):\n",
    "    # P = (action, state, state)\n",
    "    # C = (state, action)\n",
    "    # Q = (state, action)\n",
    "    Q, P, C = Qinit, np.array(Pinit), np.array(Cinit)\n",
    "    N = np.zeros((len(M[0]), len(M[1])))\n",
    "    x = 0\n",
    "    for i in range(n):\n",
    "        a = egreedy(Q[x, :], eps=0.15)\n",
    "        x, a, c, next_x = sample_transition(M, x, a)\n",
    "        N[x, a] += 1\n",
    "        alpha = 1 / (N[x, a]+1)\n",
    "        C[x, a] += alpha * (c - C[x, a])\n",
    "        tmp = np.zeros(len(M[0]))\n",
    "        tmp[next_x] = 1\n",
    "        P[a, x, :] += alpha * (tmp - P[a, x, :])\n",
    "        Q[x, a] = C[x, a] + M[4] * np.dot(P[a, x, :], np.min(Q, axis=1))\n",
    "    return Q, tuple(P), tuple(C)\n",
    "\n",
    "def mb_learning(mdp, n, qinit, Pinit, cinit):\n",
    "    X, A, _, _, gamma = mdp\n",
    "    num_states, num_actions = len(X), len(A)\n",
    "\n",
    "    # Initialize the Q-function, transition probabilities, and cost function\n",
    "    Q = qinit.copy()\n",
    "    P = [p.copy() for p in Pinit]\n",
    "    c = cinit.copy()\n",
    "\n",
    "    # Initialize state-action visit count\n",
    "    N = np.zeros((num_states, num_actions))\n",
    "\n",
    "    # Choose the initial state randomly\n",
    "    s = np.random.choice(len(X))\n",
    "\n",
    "    for t in range(n):\n",
    "        # Select an action using an epsilon-greedy policy\n",
    "        a = egreedy(Q[s], eps=0.15)\n",
    "\n",
    "        # Sample a transition, given the state and action\n",
    "        s, a, cost, s_prime = sample_transition(mdp, s, a)\n",
    "\n",
    "        # Update the visit count for the state-action pair\n",
    "        N[s, a] += 1\n",
    "\n",
    "        # Update the transition probabilities and cost function using step-size\n",
    "        alpha = 1 / (N[s, a] + 1)\n",
    "        P[a][s] = (1 - alpha) * P[a][s] + alpha * np.eye(num_states)[s_prime]\n",
    "        c[s, a] = (1 - alpha) * c[s, a] + alpha * cost\n",
    "\n",
    "        # Update the Q-function\n",
    "        Q[s, a] = c[s, a] + gamma * np.sum(P[a][s] * np.min(Q, axis=1))\n",
    "\n",
    "        # Update the current state\n",
    "        s = s_prime\n",
    "\n",
    "    return Q, tuple(P), c"
   ]
  },
  {
   "cell_type": "code",
   "execution_count": 8,
   "metadata": {},
   "outputs": [
    {
     "name": "stdout",
     "output_type": "stream",
     "text": [
      "Error in Q after 1000 steps: 2071.998945747711\n",
      "Error in Q after 2000 steps: 2063.0809250877082\n"
     ]
    }
   ],
   "source": [
    "#rnd.seed(42)\n",
    "\n",
    "# Initialize transition probabilities\n",
    "pinit = ()\n",
    "\n",
    "for a in range(len(M[1])):\n",
    "    pinit += (np.eye(len(M[0])),)\n",
    "\n",
    "# Initialize cost function\n",
    "cinit = np.zeros((len(M[0]), len(M[1])))\n",
    "\n",
    "# Initialize Q-function\n",
    "qinit = np.zeros((len(M[0]), len(M[1])))\n",
    "\n",
    "# Run 1000 steps of model-based learning\n",
    "qnew, pnew, cnew = mb_learning(M, 1000, qinit, pinit, cinit)\n",
    "\n",
    "# Compare the learned Q with the optimal Q\n",
    "print('Error in Q after 1000 steps:', np.linalg.norm(qnew - Qopt))\n",
    "\n",
    "# Run 1000 additional steps of model-based learning\n",
    "qnew, pnew, cnew = mb_learning(M, 1000, qnew, pnew, cnew)\n",
    "\n",
    "# Compare once again the learned Q with the optimal Q\n",
    "print('Error in Q after 2000 steps:', np.linalg.norm(qnew - Qopt))"
   ]
  },
  {
   "cell_type": "markdown",
   "metadata": {
    "ExecuteTime": {
     "end_time": "2019-12-09T09:18:48.567188Z",
     "start_time": "2019-12-09T09:18:48.333226Z"
    },
    "scrolled": false
   },
   "source": [
    "As an example using the garbage collection MDP, we could run:\n",
    "\n",
    "```python\n",
    "rnd.seed(42)\n",
    "\n",
    "# Initialize transition probabilities\n",
    "pinit = ()\n",
    "\n",
    "for a in range(len(M[1])):\n",
    "    pinit += (np.eye(len(M[0])),)\n",
    "\n",
    "# Initialize cost function\n",
    "cinit = np.zeros((len(M[0]), len(M[1])))\n",
    "\n",
    "# Initialize Q-function\n",
    "qinit = np.zeros((len(M[0]), len(M[1])))\n",
    "\n",
    "# Run 1000 steps of model-based learning\n",
    "qnew, pnew, cnew = mb_learning(M, 1000, qinit, pinit, cinit)\n",
    "\n",
    "# Compare the learned Q with the optimal Q\n",
    "print('Error in Q after 1000 steps:', np.linalg.norm(qnew - Qopt))\n",
    "\n",
    "# Run 1000 additional steps of model-based learning\n",
    "qnew, pnew, cnew = mb_learning(M, 1000, qnew, pnew, cnew)\n",
    "\n",
    "# Compare once again the learned Q with the optimal Q\n",
    "print('Error in Q after 2000 steps:', np.linalg.norm(qnew - Qopt))\n",
    "```\n",
    "\n",
    "to get\n",
    "\n",
    "```\n",
    "Error in Q after 1000 steps: 2071.7836094471145\n",
    "Error in Q after 2000 steps: 2063.094769797411\n",
    "```\n",
    "\n",
    "Note that, even if the seed is fixed, the numerical values may differ somewhat from those above."
   ]
  },
  {
   "cell_type": "markdown",
   "metadata": {},
   "source": [
    "### 3. Model-free learning\n",
    "\n",
    "You will now implement both $Q$-learning and SARSA."
   ]
  },
  {
   "cell_type": "markdown",
   "metadata": {},
   "source": [
    "---\n",
    "\n",
    "#### Activity 4. \n",
    "\n",
    "Write a function `qlearning` that implements the $Q$-learning algorithm discussed in class. Your function should receive as input arguments \n",
    "\n",
    "* A tuple, `mdp`, containing the description of an **arbitrary** MDP. The structure of the tuple is similar to that provided in the examples above. \n",
    "* An integer, `n`, corresponding he number of steps that your algorithm should run.\n",
    "*  A `numpy` array `qinit` with as many rows as the number of states in `mdp` and as many columns as the number of actions in `mdp`. The matrix `qinit` should be used to initialize the $Q$-function being learned by your function.\n",
    "\n",
    "Your function should simulate an interaction of `n` steps between the agent and the environment, starting from an arbitrary state chosen uniformly at random, and during which it should perform `n` iterations of the $Q$-learning algorithm seen in class. In particular, it should learn optimal $Q$-function. The $Q$-function to be learned should be initialized using `qinit`. \n",
    "\n",
    "Note that, at each step of the interaction,\n",
    "\n",
    "* The agent should observe the current state, and select an action using an $\\epsilon$-greedy policy with respect to its current estimate of the optimal $Q$-values. You should use the function `egreedy` from Activity 2, with $\\epsilon=0.15$. \n",
    "* Given the state and action, you must then compute the cost and generate the next state, using `mdp` and the function `sample_transition` from Activity 1.\n",
    "* With this transition information (state, action, cost, next-state), you can now perform an update to the $Q$-function.\n",
    "* When updating the components $(x,a)$ of the model, use the step-size $\\alpha=0.3$.\n",
    "\n",
    "Your function should return a `numpy` array with as many rows as the number of states in `mdp` and as many columns as the number of actions in `mdp`, corresponding to the learned $Q$-function.\n",
    "\n",
    "---"
   ]
  },
  {
   "cell_type": "code",
   "execution_count": 9,
   "metadata": {
    "ExecuteTime": {
     "end_time": "2019-12-09T09:18:48.576851Z",
     "start_time": "2019-12-09T09:18:48.571201Z"
    }
   },
   "outputs": [],
   "source": [
    "def qlearning(mdp, n, qinit):\n",
    "    X, A, _, _, gamma = mdp\n",
    "    num_states, num_actions = len(X), len(A)\n",
    "\n",
    "    # Initialize the Q-function\n",
    "    Q = qinit.copy()\n",
    "\n",
    "    # Choose the initial state index randomly\n",
    "    s = np.random.choice(len(X))\n",
    "\n",
    "    # Step-size\n",
    "    alpha = 0.3\n",
    "\n",
    "    for t in range(n):\n",
    "        # Select an action using an epsilon-greedy policy\n",
    "        a = egreedy(Q[s], eps=0.15)\n",
    "\n",
    "        # Sample a transition, given the state and action\n",
    "        s, a, cost, s_prime = sample_transition(mdp, s, a)\n",
    "\n",
    "        # Update the Q-function\n",
    "        Q[s, a] = (1 - alpha) * Q[s, a] + alpha * (cost + gamma * np.min(Q[s_prime]))\n",
    "\n",
    "        # Update the current state index\n",
    "        s = s_prime\n",
    "\n",
    "    return Q"
   ]
  },
  {
   "cell_type": "code",
   "execution_count": 10,
   "metadata": {},
   "outputs": [
    {
     "name": "stdout",
     "output_type": "stream",
     "text": [
      "Error in Q after 1000 steps: 2075.2399258123887\n",
      "Error in Q after 2000 steps: 2071.2297569974517\n"
     ]
    }
   ],
   "source": [
    "rnd.seed(42)\n",
    "\n",
    "# Initialize Q-function\n",
    "qinit = np.zeros((len(M[0]), len(M[1])))\n",
    "\n",
    "# Run 1000 steps of model-based learning\n",
    "qnew = qlearning(M, 1000, qinit)\n",
    "\n",
    "# Compare the learned Q with the optimal Q\n",
    "print('Error in Q after 1000 steps:', np.linalg.norm(qnew - Qopt))\n",
    "\n",
    "# Run 1000 additional steps of model-based learning\n",
    "qnew = qlearning(M, 1000, qnew)\n",
    "\n",
    "# Compare once again the learned Q with the optimal Q\n",
    "print('Error in Q after 2000 steps:', np.linalg.norm(qnew - Qopt))"
   ]
  },
  {
   "cell_type": "markdown",
   "metadata": {
    "ExecuteTime": {
     "end_time": "2019-12-09T09:18:48.567188Z",
     "start_time": "2019-12-09T09:18:48.333226Z"
    },
    "scrolled": false
   },
   "source": [
    "As an example using the garbage collection MDP, we could run:\n",
    "\n",
    "```python\n",
    "rnd.seed(42)\n",
    "\n",
    "# Initialize Q-function\n",
    "qinit = np.zeros((len(M[0]), len(M[1])))\n",
    "\n",
    "# Run 1000 steps of model-based learning\n",
    "qnew = qlearning(M, 1000, qinit)\n",
    "\n",
    "# Compare the learned Q with the optimal Q\n",
    "print('Error in Q after 1000 steps:', np.linalg.norm(qnew - Qopt))\n",
    "\n",
    "# Run 1000 additional steps of model-based learning\n",
    "qnew = qlearning(M, 1000, qnew)\n",
    "\n",
    "# Compare once again the learned Q with the optimal Q\n",
    "print('Error in Q after 2000 steps:', np.linalg.norm(qnew - Qopt))\n",
    "```\n",
    "\n",
    "to get\n",
    "\n",
    "```\n",
    "Error in Q after 1000 steps: 2075.1017636787155\n",
    "Error in Q after 2000 steps: 2071.2423021752047\n",
    "```\n",
    "\n",
    "Once again, even if the seed is fixed, the numerical values may differ somewhat from those above."
   ]
  },
  {
   "cell_type": "markdown",
   "metadata": {},
   "source": [
    "---\n",
    "\n",
    "#### Activity 5. \n",
    "\n",
    "Write a function `sarsa` that implements the SARSA algorithm discussed in class. Your function should receive as input arguments \n",
    "\n",
    "* A tuple, `mdp`, containing the description of an **arbitrary** MDP. The structure of the tuple is similar to that provided in the examples above. \n",
    "* An integer, `n`, corresponding he number of steps that your algorithm should run.\n",
    "*  A `numpy` array `qinit` with as many rows as the number of states in `mdp` and as many columns as the number of actions in `mdp`. The matrix `qinit` should be used to initialize the $Q$-function being learned by your function.\n",
    "\n",
    "Your function should simulate an interaction of `n` steps between the agent and the environment, starting from an arbitrary state chosen uniformly at random, and during which it should perform `n` iterations of the SARSA algorithm seen in class. The $Q$-function to be learned should be initialized using `qinit`. \n",
    "\n",
    "Note that, at each step of the interaction,\n",
    "\n",
    "* The agent should observe the current state, and select an action using an $\\epsilon$-greedy policy with respect to its current estimate of the optimal $Q$-values. You should use the function `egreedy` from Activity 2, with $\\epsilon=0.15$. **Do not adjust the value of $\\epsilon$ during learning.**\n",
    "* Given the state and action, you must then compute the cost and generate the next state, using `mdp` and the function `sample_transition` from Activity 1.\n",
    "* With this transition information (state, action, cost, next-state), you can now perform an update to the $Q$-function.\n",
    "* When updating the components $(x,a)$ of the model, use the step-size $\\alpha=0.3$.\n",
    "\n",
    "Your function should return a `numpy` array with as many rows as the number of states in `mdp` and as many columns as the number of actions in `mdp`, corresponding to the learned $Q$-function.\n",
    "\n",
    "---"
   ]
  },
  {
   "cell_type": "code",
   "execution_count": 11,
   "metadata": {
    "ExecuteTime": {
     "end_time": "2019-12-09T09:18:48.771464Z",
     "start_time": "2019-12-09T09:18:48.766170Z"
    }
   },
   "outputs": [],
   "source": [
    "def sarsa(mdp, n, qinit):\n",
    "    X, A, _, _, gamma = mdp\n",
    "    num_states, num_actions = len(X), len(A)\n",
    "\n",
    "    # Initialize the Q-function\n",
    "    Q = qinit.copy()\n",
    "\n",
    "    # Choose the initial state index randomly\n",
    "    s = np.random.choice(len(X))\n",
    "\n",
    "    # Step-size\n",
    "    alpha = 0.3\n",
    "\n",
    "    # Select the initial action using an epsilon-greedy policy\n",
    "    a = egreedy(Q[s], eps=0.15)\n",
    "\n",
    "    for t in range(n):\n",
    "        # Sample a transition, given the state and action\n",
    "        s, a, cost, s_prime = sample_transition(mdp, s, a)\n",
    "\n",
    "        # Select the next action using an epsilon-greedy policy\n",
    "        a_prime = egreedy(Q[s_prime], eps=0.15)\n",
    "\n",
    "        # Update the Q-function\n",
    "        Q[s, a] = (1 - alpha) * Q[s, a] + alpha * (cost + gamma * Q[s_prime, a_prime])\n",
    "\n",
    "        # Update the current state index and action\n",
    "        s, a = s_prime, a_prime\n",
    "\n",
    "    return Q"
   ]
  },
  {
   "cell_type": "code",
   "execution_count": 12,
   "metadata": {},
   "outputs": [
    {
     "name": "stdout",
     "output_type": "stream",
     "text": [
      "Error in Q after 1000 steps: 2075.1448742953094\n",
      "Error in Q after 2000 steps: 2071.20212038927\n"
     ]
    }
   ],
   "source": [
    "rnd.seed(42)\n",
    "\n",
    "# Initialize Q-function\n",
    "qinit = np.zeros((len(M[0]), len(M[1])))\n",
    "\n",
    "# Run 1000 steps of model-based learning\n",
    "qnew = sarsa(M, 1000, qinit)\n",
    "\n",
    "# Compare the learned Q with the optimal Q\n",
    "print('Error in Q after 1000 steps:', np.linalg.norm(qnew - Qopt))\n",
    "\n",
    "# Run 1000 additional steps of model-based learning\n",
    "qnew = sarsa(M, 1000, qnew)\n",
    "\n",
    "# Compare once again the learned Q with the optimal Q\n",
    "print('Error in Q after 2000 steps:', np.linalg.norm(qnew - Qopt))"
   ]
  },
  {
   "cell_type": "code",
   "execution_count": 14,
   "metadata": {},
   "outputs": [
    {
     "name": "stdout",
     "output_type": "stream",
     "text": [
      "\n",
      " = Training (run n. 0) =\n"
     ]
    },
    {
     "name": "stderr",
     "output_type": "stream",
     "text": [
      "100%|██████████| 10000/10000 [07:24<00:00, 22.52it/s]\n"
     ]
    },
    {
     "name": "stdout",
     "output_type": "stream",
     "text": [
      "\n",
      " = Training (run n. 1) =\n"
     ]
    },
    {
     "name": "stderr",
     "output_type": "stream",
     "text": [
      "100%|██████████| 10000/10000 [07:20<00:00, 22.70it/s]\n"
     ]
    },
    {
     "name": "stdout",
     "output_type": "stream",
     "text": [
      "\n",
      " = Training (run n. 2) =\n"
     ]
    },
    {
     "name": "stderr",
     "output_type": "stream",
     "text": [
      "100%|██████████| 10000/10000 [07:21<00:00, 22.63it/s]\n"
     ]
    },
    {
     "name": "stdout",
     "output_type": "stream",
     "text": [
      "\n",
      " = Training (run n. 3) =\n"
     ]
    },
    {
     "name": "stderr",
     "output_type": "stream",
     "text": [
      " 76%|███████▋  | 7628/10000 [05:34<01:47, 21.99it/s]Bad pipe message: %s [b'\\xea\\x01\\x0c\\xa4\\x96^\\x83D\\x94ug\\x03=\\xb6\\x84\\x1f \\xd7 \\xe1\\xa5h\\xdf\\xe8\\xce\\x87\\xed[\\x94\\x03\\xdb>\\xb4\\xb7\\xb0\\xb0y2s\\xb3\\x02\\xf9\\xd1\\xb9K\\x1a\\xc7']\n",
      "Bad pipe message: %s [b'8\\xa1\\xe3#%\\xc8n\\xab\\xc9#\\xe0\\xb4\\x06n\\xfemb\\x91\\x00\\x00\\xa2\\xc0\\x14\\xc0\\n\\x009\\x008\\x007\\x006\\x00\\x88\\x00\\x87\\x00\\x86\\x00\\x85\\xc0\\x19\\x00:\\x00\\x89\\xc0\\x0f\\xc0\\x05\\x005\\x00\\x84\\xc0\\x13\\xc0\\t\\x003\\x002\\x001\\x000\\x00\\x9a\\x00\\x99\\x00\\x98\\x00\\x97\\x00E\\x00D\\x00C\\x00B\\xc0\\x18\\x004\\x00\\x9b\\x00F\\xc0\\x0e\\xc0\\x04\\x00/\\x00\\x96\\x00A\\x00\\x07\\xc0\\x11\\xc0\\x07\\xc0\\x16\\x00\\x18\\xc0\\x0c\\xc0\\x02\\x00\\x05\\x00\\x04\\xc0\\x12\\xc0\\x08\\x00\\x16\\x00\\x13\\x00\\x10\\x00\\r\\xc0\\x17\\x00\\x1b\\xc0\\r\\xc0\\x03\\x00\\n\\x00\\x15\\x00\\x12\\x00\\x0f\\x00\\x0c\\x00\\x1a\\x00\\t\\x00']\n",
      "Bad pipe message: %s [b'\\xdc\\xefrE\\xd3\\x14B\\x8c9\\xd6sT\\x0fUn\\xc1>\\x95\\x00\\x00\\xa2\\xc0\\x14\\xc0\\n\\x009\\x008\\x007\\x006\\x00\\x88\\x00\\x87\\x00\\x86\\x00\\x85\\xc0\\x19\\x00:\\x00\\x89\\xc0\\x0f\\xc0\\x05\\x005\\x00\\x84\\xc0\\x13\\xc0\\t']\n",
      " 76%|███████▋  | 7631/10000 [05:34<01:49, 21.71it/s]Bad pipe message: %s [b'\\xb64\\x9d\\\\\\x9eM\\xe4\\xa4\\x86\\xd1\\x0ex^E\\x8c\\xc6\\xed\\xc4\\x00\\x00>\\xc0\\x14\\xc0\\n\\x009\\x008\\x007\\x006\\xc0\\x0f\\xc0\\x05\\x005\\xc0']\n",
      "Bad pipe message: %s [b'\\x9a3\\xe5\\x8e\\xe60\\x16\\xcf\\t\\xaf4\\x9f~\\xc2\\xd2\\xbd\\xddI\\x00\\x00\\xa2\\xc0\\x14\\xc0\\n\\x009\\x008\\x007\\x006\\x00\\x88\\x00\\x87\\x00\\x86\\x00\\x85\\xc0\\x19\\x00:\\x00\\x89\\xc0\\x0f\\xc0\\x05\\x005\\x00\\x84\\xc0\\x13\\xc0\\t\\x003\\x002\\x001\\x000\\x00\\x9a\\x00\\x99\\x00\\x98\\x00\\x97\\x00E\\x00D\\x00C\\x00B\\xc0\\x18\\x004\\x00\\x9b\\x00F\\xc0\\x0e\\xc0\\x04\\x00/\\x00\\x96\\x00A\\x00\\x07\\xc0\\x11\\xc0\\x07\\xc0\\x16\\x00\\x18\\xc0\\x0c\\xc0\\x02\\x00\\x05\\x00\\x04\\xc0\\x12\\xc0\\x08\\x00\\x16\\x00\\x13\\x00\\x10\\x00\\r\\xc0']\n",
      "Bad pipe message: %s [b'\\x13n=h\\xe7\\x07\\xda9@\\xbd`\\xcc\\xe9\\xf9\\x11\\xa1\\xcd\\xff\\x00\\x00>\\xc0\\x14\\xc0\\n\\x009\\x008\\x007\\x00', b'\\x0f\\xc0\\x05\\x005\\xc0\\x13\\xc0\\t\\x003\\x002\\x001\\x000\\xc0\\x0e\\xc0\\x04\\x00/\\x00\\x9a\\x00\\x99\\x00\\x98\\x00\\x97\\x00\\x96\\x00\\x07\\xc0\\x11\\xc0\\x07\\xc0\\x0c\\xc0\\x02\\x00\\x05\\x00\\x04\\x00\\xff\\x02\\x01\\x00\\x15']\n",
      "Bad pipe message: %s [b'\\x11\\x00\\x19\\x00\\x08\\x00\\x06\\x00\\x17\\x00\\x03\\xc0\\x10\\xc0\\x06\\xc0\\x15\\xc0\\x0b']\n",
      "Bad pipe message: %s [b'\\x00\\x02']\n",
      "Bad pipe message: %s [b'\\t\\x003\\x002\\x001\\x000\\xc0\\x0e\\xc0\\x04\\x00/\\x00\\x9a\\x00']\n",
      "Bad pipe message: %s [b'\\x1b\\xc0\\r\\xc0\\x03\\x00\\n\\x00\\x15\\x00\\x12\\x00\\x0f\\x00\\x0c\\x00\\x1a\\x00\\t\\x00\\x14\\x00']\n",
      "Bad pipe message: %s [b'\\x19\\x00\\x08\\x00\\x06\\x00\\x17\\x00\\x03\\xc0\\x10\\xc0\\x06\\xc0\\x15\\xc0']\n",
      "Bad pipe message: %s [b'\\x01\\x00\\x02\\x00\\x01\\x00\\xff\\x02\\x01\\x00']\n",
      "100%|██████████| 10000/10000 [07:19<00:00, 22.74it/s]\n"
     ]
    },
    {
     "name": "stdout",
     "output_type": "stream",
     "text": [
      "\n",
      " = Training (run n. 4) =\n"
     ]
    },
    {
     "name": "stderr",
     "output_type": "stream",
     "text": [
      "100%|██████████| 10000/10000 [07:26<00:00, 22.40it/s]\n"
     ]
    },
    {
     "data": {
      "image/png": "[encoded data removed]",
      "text/plain": [
       "<Figure size 640x480 with 1 Axes>"
      ]
     },
     "metadata": {},
     "output_type": "display_data"
    }
   ],
   "source": [
    "%matplotlib inline\n",
    "\n",
    "import matplotlib.pyplot as plt\n",
    "from tqdm import trange\n",
    "\n",
    "STEPS = 100\n",
    "ITERS = 10000\n",
    "RUNS  = 5\n",
    "\n",
    "iters = range(0, STEPS * ITERS + 1, STEPS)\n",
    "\n",
    "# Error matrices\n",
    "Emb = np.zeros(ITERS + 1)\n",
    "Eql = np.zeros(ITERS + 1)\n",
    "Ess = np.zeros(ITERS + 1)\n",
    "\n",
    "Emb[0] = np.linalg.norm(Qopt) * RUNS\n",
    "Eql[0] = Emb[0]\n",
    "Ess[0] = Emb[0]\n",
    "\n",
    "rnd.seed(42)\n",
    "\n",
    "for n in range(RUNS):\n",
    "    \n",
    "    print('\\n = Training (run n. %i) =' % n)\n",
    "\n",
    "    # Initialization\n",
    "    pmb = ()\n",
    "    for a in range(len(M[1])):\n",
    "        pmb += (np.eye(len(M[0])),)\n",
    "    cmb = np.zeros((len(M[0]), len(M[1])))\n",
    "    qmb = np.zeros((len(M[0]), len(M[1])))\n",
    "\n",
    "    qql = np.zeros((len(M[0]), len(M[1])))\n",
    "\n",
    "    qss = np.zeros((len(M[0]), len(M[1])))\n",
    "\n",
    "    # Run evaluation\n",
    "    for t in trange(ITERS):\n",
    "        qmb, pmb, cmb = mb_learning(M, STEPS, qmb, pmb, cmb)\n",
    "        Emb[t + 1] += np.linalg.norm(Qopt - qmb)\n",
    "\n",
    "        qql = qlearning(M, STEPS, qql)\n",
    "        Eql[t + 1] += np.linalg.norm(Qopt - qql)\n",
    "\n",
    "        qss = sarsa(M, STEPS, qss)\n",
    "        Ess[t + 1] += np.linalg.norm(Qopt - qss)\n",
    "        \n",
    "Emb /= RUNS\n",
    "Eql /= RUNS\n",
    "Ess /= RUNS\n",
    "\n",
    "plt.figure()\n",
    "plt.plot(iters, Emb, label='Model based learning')\n",
    "plt.plot(iters, Eql, label='Q-learning')\n",
    "plt.plot(iters, Ess, label='SARSA')\n",
    "plt.legend()\n",
    "plt.xlabel('N. iterations')\n",
    "plt.ylabel('Error in $Q$-function')\n",
    "plt.tight_layout()"
   ]
  },
  {
   "cell_type": "markdown",
   "metadata": {
    "ExecuteTime": {
     "end_time": "2019-12-09T09:18:48.567188Z",
     "start_time": "2019-12-09T09:18:48.333226Z"
    },
    "scrolled": false
   },
   "source": [
    "As an example using the garbage collection MDP, we could run:\n",
    "\n",
    "```python\n",
    "rnd.seed(42)\n",
    "\n",
    "# Initialize Q-function\n",
    "qinit = np.zeros((len(M[0]), len(M[1])))\n",
    "\n",
    "# Run 1000 steps of model-based learning\n",
    "qnew = sarsa(M, 1000, qinit)\n",
    "\n",
    "# Compare the learned Q with the optimal Q\n",
    "print('Error in Q after 1000 steps:', np.linalg.norm(qnew - Qopt))\n",
    "\n",
    "# Run 1000 additional steps of model-based learning\n",
    "qnew = sarsa(M, 1000, qnew)\n",
    "\n",
    "# Compare once again the learned Q with the optimal Q\n",
    "print('Error in Q after 2000 steps:', np.linalg.norm(qnew - Qopt))\n",
    "```\n",
    "\n",
    "to get\n",
    "\n",
    "```\n",
    "Error in Q after 1000 steps: 2075.1406358460335\n",
    "Error in Q after 2000 steps: 2071.3109087380585\n",
    "```"
   ]
  },
  {
   "cell_type": "markdown",
   "metadata": {},
   "source": [
    "You can also run the following code, to compare the performance of the three methods:\n",
    "\n",
    "```python\n",
    "%matplotlib inline\n",
    "\n",
    "import matplotlib.pyplot as plt\n",
    "from tqdm import trange\n",
    "\n",
    "STEPS = 100\n",
    "ITERS = 10000\n",
    "RUNS  = 5\n",
    "\n",
    "iters = range(0, STEPS * ITERS + 1, STEPS)\n",
    "\n",
    "# Error matrices\n",
    "Emb = np.zeros(ITERS + 1)\n",
    "Eql = np.zeros(ITERS + 1)\n",
    "Ess = np.zeros(ITERS + 1)\n",
    "\n",
    "Emb[0] = np.linalg.norm(Qopt) * RUNS\n",
    "Eql[0] = Emb[0]\n",
    "Ess[0] = Emb[0]\n",
    "\n",
    "rnd.seed(42)\n",
    "\n",
    "for n in range(RUNS):\n",
    "    \n",
    "    print('\\n = Training (run n. %i) =' % n)\n",
    "\n",
    "    # Initialization\n",
    "    pmb = ()\n",
    "    for a in range(len(M[1])):\n",
    "        pmb += (np.eye(len(M[0])),)\n",
    "    cmb = np.zeros((len(M[0]), len(M[1])))\n",
    "    qmb = np.zeros((len(M[0]), len(M[1])))\n",
    "\n",
    "    qql = np.zeros((len(M[0]), len(M[1])))\n",
    "\n",
    "    qss = np.zeros((len(M[0]), len(M[1])))\n",
    "\n",
    "    # Run evaluation\n",
    "    for t in trange(ITERS):\n",
    "        qmb, pmb, cmb = mb_learning(M, STEPS, qmb, pmb, cmb)\n",
    "        Emb[t + 1] += np.linalg.norm(Qopt - qmb)\n",
    "\n",
    "        qql = qlearning(M, STEPS, qql)\n",
    "        Eql[t + 1] += np.linalg.norm(Qopt - qql)\n",
    "\n",
    "        qss = sarsa(M, STEPS, qss)\n",
    "        Ess[t + 1] += np.linalg.norm(Qopt - qss)\n",
    "        \n",
    "Emb /= RUNS\n",
    "Eql /= RUNS\n",
    "Ess /= RUNS\n",
    "\n",
    "plt.figure()\n",
    "plt.plot(iters, Emb, label='Model based learning')\n",
    "plt.plot(iters, Eql, label='Q-learning')\n",
    "plt.plot(iters, Ess, label='SARSA')\n",
    "plt.legend()\n",
    "plt.xlabel('N. iterations')\n",
    "plt.ylabel('Error in $Q$-function')\n",
    "plt.tight_layout()\n",
    "```\n",
    "\n",
    "**Note:** The code above takes a while to conclude. If you want to observe faster results, you may try with a single run (set `RUNS = 1` above) or decrease the training time (changing `ITERS` above). However, the plot you will obtain will differ from the one provided.\n",
    "\n",
    "As the output, you should observe a plot similar to the one below.\n",
    "\n",
    "<img src=\"plot.png\" align=\"left\">"
   ]
  },
  {
   "cell_type": "markdown",
   "metadata": {},
   "source": [
    "---\n",
    "\n",
    "#### Activity 6.\n",
    "\n",
    "**Based on the results you obtained when running the above code with your algorithms**, discuss the differences observed between the performance of the three methods.\n",
    "\n",
    "---"
   ]
  },
  {
   "cell_type": "markdown",
   "metadata": {},
   "source": [
    "<font color=\"blue\">Insert your comments here.</font>"
   ]
  }
 ],
 "metadata": {
  "celltoolbar": "Raw Cell Format",
  "kernelspec": {
   "display_name": "Python 3 (ipykernel)",
   "language": "python",
   "name": "python3"
  },
  "language_info": {
   "codemirror_mode": {
    "name": "ipython",
    "version": 3
   },
   "file_extension": ".py",
   "mimetype": "text/x-python",
   "name": "python",
   "nbconvert_exporter": "python",
   "pygments_lexer": "ipython3",
   "version": "3.10.4"
  },
  "latex_envs": {
   "LaTeX_envs_menu_present": true,
   "autoclose": false,
   "autocomplete": true,
   "bibliofile": "biblio.bib",
   "cite_by": "apalike",
   "current_citInitial": 1,
   "eqLabelWithNumbers": true,
   "eqNumInitial": 1,
   "hotkeys": {
    "equation": "Ctrl-E",
    "itemize": "Ctrl-I"
   },
   "labels_anchors": false,
   "latex_user_defs": false,
   "report_style_numbering": false,
   "user_envs_cfg": false
  }
 },
 "nbformat": 4,
 "nbformat_minor": 1
}
